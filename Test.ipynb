{
 "cells": [
  {
   "cell_type": "code",
   "execution_count": 1,
   "outputs": [],
   "source": [
    "import torch\n",
    "from sklearn.metrics import f1_score, accuracy_score\n",
    "from training_structures.unimodal import test as uni_test\n",
    "from training_structures.Supervised_Learning import test\n",
    "from commons import get_dataloader, get_ckp_name"
   ],
   "metadata": {
    "collapsed": false
   }
  },
  {
   "cell_type": "code",
   "execution_count": 2,
   "outputs": [],
   "source": [
    "def test_ckp(dataset, name, suffix='best', unimodal=True, balanced=False):\n",
    "    print(f'{name.upper()} on {dataset.upper()}:')\n",
    "\n",
    "    traindata, valdata, testdata = get_dataloader(dataset, task='classification',\n",
    "                                                  num_workers=1, max_pad=unimodal, balanced=balanced)\n",
    "\n",
    "    if unimodal:\n",
    "        encoder = torch.load(get_ckp_name(dataset, name, suffix=suffix, encoder=True)).cuda()\n",
    "        head = torch.load(get_ckp_name(dataset, name, suffix=suffix, head=True)).cuda()\n",
    "        results = uni_test(encoder, head, testdata, dataset, method_name=name,\n",
    "                           task='multilabel', modalnum=1, no_robust=True)\n",
    "    else:\n",
    "        model = torch.load(get_ckp_name(dataset, name, suffix=suffix)).cuda()\n",
    "        results = test(model=model, test_dataloaders_all=testdata, dataset=dataset,\n",
    "                       is_packed=True,  criterion=torch.nn.BCEWithLogitsLoss(),\n",
    "                       task='multilabel', no_robust=True)\n",
    "\n",
    "    true = results['true']\n",
    "    pred = results['pred']\n",
    "\n",
    "    f1 = f1_score(true, pred)\n",
    "    acc = accuracy_score(true, pred)\n",
    "    results['F1'] = f1\n",
    "    results['Accuracy'] = acc\n",
    "\n",
    "    print('F1 binary:', f1)\n",
    "    print(' Accuracy:', acc)\n",
    "\n",
    "    return results"
   ],
   "metadata": {
    "collapsed": false
   }
  },
  {
   "cell_type": "code",
   "execution_count": 3,
   "outputs": [
    {
     "name": "stdout",
     "output_type": "stream",
     "text": [
      "LF_C on MOSEI:\n",
      " f1_micro: 0.7237237237237237 f1_macro: 0.723452497977242\n",
      "Inference Time: 22.660237073898315\n",
      "Inference Params: 50443543\n",
      "F1 binary: 0.7321131447587356\n",
      " Accuracy: 0.7237237237237237\n",
      "TR_C on MOSEI:\n",
      " f1_micro: 0.5832260832260833 f1_macro: 0.5807399301738184\n",
      "Inference Time: 7.6084136962890625\n",
      "Inference Params: 4955897\n",
      "F1 binary: 0.5484545665814547\n",
      " Accuracy: 0.5832260832260833\n",
      "TR_C on EMO2:\n",
      "Train size: 391\n",
      "  Val size: 97\n",
      " Test size: 2171\n",
      " Total pos: 122\n",
      " f1_micro: 0.987563334868724 f1_macro: 0.9372479539238094\n",
      "Inference Time: 4.318965435028076\n",
      "Inference Params: 4955897\n",
      "F1 binary: 0.8810572687224669\n",
      " Accuracy: 0.987563334868724\n"
     ]
    }
   ],
   "source": [
    "result_lf_c       = test_ckp('mosei', 'lf_c', unimodal=False)\n",
    "result_tr_c_mosei = test_ckp('mosei', 'tr_c')\n",
    "result_tr_c_emo2  = test_ckp('emo2', 'tr_c')"
   ],
   "metadata": {
    "collapsed": false
   }
  },
  {
   "cell_type": "code",
   "execution_count": 3,
   "outputs": [
    {
     "name": "stdout",
     "output_type": "stream",
     "text": [
      "TR_C on EMO2:\n",
      "Train size: 391\n",
      "  Val size: 97\n",
      " Test size: 122\n",
      " Total pos: 122\n",
      " f1_micro: 0.8852459016393442 f1_macro: 0.4695652173913043\n",
      "Inference Time: 4.949899673461914\n",
      "Inference Params: 4955897\n",
      "F1 binary: 0.9391304347826086\n",
      " Accuracy: 0.8852459016393442\n"
     ]
    }
   ],
   "source": [
    "result_tr_c_emo2_balanced = test_ckp('emo2', 'tr_c', balanced=True)"
   ],
   "metadata": {
    "collapsed": false
   }
  },
  {
   "cell_type": "code",
   "execution_count": null,
   "outputs": [],
   "source": [],
   "metadata": {
    "collapsed": false
   }
  }
 ],
 "metadata": {
  "kernelspec": {
   "display_name": "Python 3",
   "language": "python",
   "name": "python3"
  },
  "language_info": {
   "codemirror_mode": {
    "name": "ipython",
    "version": 2
   },
   "file_extension": ".py",
   "mimetype": "text/x-python",
   "name": "python",
   "nbconvert_exporter": "python",
   "pygments_lexer": "ipython2",
   "version": "2.7.6"
  }
 },
 "nbformat": 4,
 "nbformat_minor": 0
}
